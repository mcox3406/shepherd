{
 "cells": [
  {
   "cell_type": "code",
   "execution_count": 1,
   "id": "8d7f5213-c83c-4d8c-ba06-21bbe81d801a",
   "metadata": {},
   "outputs": [],
   "source": [
    "%load_ext autoreload\n",
    "%autoreload 2\n",
    "\n",
    "import pickle\n",
    "import numpy as np\n",
    "import matplotlib.pyplot as plt\n",
    "import pandas as pd\n",
    "import seaborn as sns\n",
    "from analyze_sop_results import (load_pickle_results,\n",
    "    extract_NM_from_path,\n",
    "    load_experiment_results,\n",
    "    create_n_m_heatmap,\n",
    "    create_score_vs_nfe_by_N_plot,\n",
    "    create_score_vs_nfe_by_M_plot,\n",
    "    create_efficiency_line_plot,\n",
    "    main\n",
    ")\n",
    "\n",
    "from analyze_cfg_results import (load_pickle_data,\n",
    "process_cfg_random_search_data,\n",
    "process_cfg_zero_order_data,\n",
    "plot_cfg_results_vs_baseline,\n",
    ")\n",
    "from analyze_cfg_results import main as main_cfg"
   ]
  },
  {
   "cell_type": "code",
   "execution_count": 6,
   "id": "0193f38b-3d9d-4290-a8ec-a963a91bb973",
   "metadata": {},
   "outputs": [
    {
     "name": "stdout",
     "output_type": "stream",
     "text": [
      "Processing random search results from: inference_scaling_experiments/random\n",
      "Processed random search data for single_objective\n",
      "Processed random search data for multi_objective\n",
      "Random search data processed successfully.\n",
      "Loaded 18 SearchOverPaths experiment results.\n",
      "Saved combined SearchOverPaths results to sop_plots/sop_results_summary.csv\n",
      "Found SearchOverPaths objective types: ['multi' 'single']\n",
      "[multi] Skipping initial random search efficiency data up to NFE 0 as it's above threshold 1.5\n",
      "[multi] Skipping initial random search efficiency data up to NFE 0 as it's above threshold 1.5\n",
      "[single] Skipping initial random search efficiency data up to NFE 0 as it's above threshold 1.5\n",
      "[single] Skipping initial random search efficiency data up to NFE 0 as it's above threshold 1.5\n",
      "All plots saved to sop_plots\n"
     ]
    }
   ],
   "source": [
    "# def parse_args():\n",
    "#     parser = argparse.ArgumentParser(description='Analyze SearchOverPaths experiment results')\n",
    "#     parser.add_argument('--base_dirs', nargs='+', default=[\n",
    "#         'inference_scaling_experiments/single_objective',\n",
    "#         'inference_scaling_experiments/multi_objective'\n",
    "#     ], help='Base directories containing experiment results')\n",
    "#     parser.add_argument('--output_dir', default='inference_scaling_experiments/analysis',\n",
    "#                         help='Directory to save analysis results')\n",
    "#     return parser.parse_args()\n",
    "\n",
    "# Load results from both single and multi objective directories\n",
    "\n",
    "base_dirs = ['inference_scaling_experiments/search_over_paths/multi_objective', 'inference_scaling_experiments/search_over_paths/single_objective']\n",
    "random_dir = 'inference_scaling_experiments/random'\n",
    "\n",
    "output_dir = 'sop_plots'\n",
    "\n",
    "random_search_data = main(base_dirs, random_dir, output_dir)"
   ]
  },
  {
   "cell_type": "code",
   "execution_count": 10,
   "id": "32a494ad-347a-4084-a52c-86e70f9cd55a",
   "metadata": {},
   "outputs": [],
   "source": [
    "import pickle\n",
    "with open('sop_plots/random_search_data.pkl', 'wb') as f:\n",
    "    pickle.dump(random_search_data, f)"
   ]
  },
  {
   "cell_type": "code",
   "execution_count": 15,
   "id": "35854e40-2f6e-49a3-9fc8-12f0705bff64",
   "metadata": {},
   "outputs": [
    {
     "data": {
      "text/plain": [
       "nfe\n",
       "0      0.241110\n",
       "1      0.291400\n",
       "2      0.309527\n",
       "3      0.338745\n",
       "4      0.357077\n",
       "         ...   \n",
       "495    0.827328\n",
       "496    0.827328\n",
       "497    0.827328\n",
       "498    0.827328\n",
       "499    0.827328\n",
       "Length: 500, dtype: float64"
      ]
     },
     "execution_count": 15,
     "metadata": {},
     "output_type": "execute_result"
    }
   ],
   "source": [
    "random_search_data['single_objective']['mean_cummax_score']"
   ]
  },
  {
   "cell_type": "code",
   "execution_count": 10,
   "id": "85491899-e082-4d0d-a865-a41237987c96",
   "metadata": {},
   "outputs": [
    {
     "name": "stdout",
     "output_type": "stream",
     "text": [
      "Output will be saved to: cfg_plots\n",
      "Loading baseline random search data from: sop_plots/random_search_data.pkl\n",
      "Successfully loaded pickle data from sop_plots/random_search_data.pkl\n",
      "Processing CFG Random Search data from: inference_scaling_experiments/cfg_sweep3\n",
      "Processed CFG Random Search data for: w=0.0, nfe_target=500, sa_target=8.0\n",
      "Processed CFG Random Search data for: w=0.0, nfe_target=100, sa_target=8.0\n",
      "Processed CFG Random Search data for: w=0.0, nfe_target=50, sa_target=8.0\n",
      "Processed CFG Random Search data for: w=3.0, nfe_target=500, sa_target=8.0\n",
      "Processed CFG Random Search data for: w=3.0, nfe_target=100, sa_target=8.0\n",
      "Processed CFG Random Search data for: w=3.0, nfe_target=50, sa_target=8.0\n",
      "Saved plot: cfg_plots/cfg_random_search_cumulative_max_vs_baseline_sa_target_8.0.png\n",
      "\n",
      "Processing CFG Zero-Order Search data from: inference_scaling_experiments/cfg_sweep3\n",
      "No CFG zero-order search CSV files found matching pattern: inference_scaling_experiments/cfg_sweep3/cfg_zero_order_w*_nfe*_sa_target*/all_molecules_log.csv\n",
      "No CFG Zero-Order Search data processed.\n",
      "\n",
      "CFG analysis complete. Plots saved in cfg_plots\n"
     ]
    }
   ],
   "source": [
    "cfg_base_dir = 'inference_scaling_experiments/cfg_sweep3'\n",
    "baseline_pickle_path = 'sop_plots/random_search_data.pkl'\n",
    "output_dir = 'cfg_plots'\n",
    "baseline_objective_key = 'single_objective'\n",
    "\n",
    "main_cfg(cfg_base_dir,\n",
    "baseline_pickle_path,\n",
    "output_dir,\n",
    "baseline_objective_key)"
   ]
  },
  {
   "cell_type": "code",
   "execution_count": null,
   "id": "aec9c37f-a5b1-4fa4-bb70-7b11d8793982",
   "metadata": {},
   "outputs": [],
   "source": []
  }
 ],
 "metadata": {
  "kernelspec": {
   "display_name": "shepherd-inf",
   "language": "python",
   "name": "myenv"
  },
  "language_info": {
   "codemirror_mode": {
    "name": "ipython",
    "version": 3
   },
   "file_extension": ".py",
   "mimetype": "text/x-python",
   "name": "python",
   "nbconvert_exporter": "python",
   "pygments_lexer": "ipython3",
   "version": "3.9.0"
  }
 },
 "nbformat": 4,
 "nbformat_minor": 5
}
